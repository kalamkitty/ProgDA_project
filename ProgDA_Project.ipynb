{
 "cells": [
  {
   "cell_type": "markdown",
   "id": "1b0a01d1",
   "metadata": {},
   "source": [
    "# Background\n",
    "\n",
    "The task of the project is to choose a real-world phenonmenon and to synthesise data relating to the phemonmenon whilst investigating the types of variables involved and the relationship of said variables.\n",
    "\n",
    "The phenomenon I have chosen to investigate for this project is risk of a person developing type 2 diabetes. Using python, I will simulate a dataset with 100 datapoints for the below 4 key variables; \n",
    "\n",
    "1. Blood glucose -  meausred in mg/dL at random with below 200mg/dl considered normal and over considered diabetic according to the British Heart Foundation.\n",
    "\n",
    "2. Age - measured in the person's age, with minimum age requirement of 18.\n",
    "\n",
    "3. Waist circumference - measured in cm.\n",
    "\n",
    "4. Body Mass Index (BMI) - calculated by dividing the person's weight by height squared. \n"
   ]
  },
  {
   "cell_type": "markdown",
   "id": "198f63cb",
   "metadata": {},
   "source": []
  },
  {
   "cell_type": "markdown",
   "id": "267a294e",
   "metadata": {},
   "source": [
    "# References\n",
    "\n",
    "https://www.bhf.org.uk/informationsupport/heart-matters-magazine/medical/tests/blood-sugar"
   ]
  },
  {
   "cell_type": "code",
   "execution_count": null,
   "id": "fbef7943",
   "metadata": {},
   "outputs": [],
   "source": []
  }
 ],
 "metadata": {
  "kernelspec": {
   "display_name": "Python 3.9.7 ('base')",
   "language": "python",
   "name": "python3"
  },
  "language_info": {
   "codemirror_mode": {
    "name": "ipython",
    "version": 3
   },
   "file_extension": ".py",
   "mimetype": "text/x-python",
   "name": "python",
   "nbconvert_exporter": "python",
   "pygments_lexer": "ipython3",
   "version": "3.9.7"
  },
  "vscode": {
   "interpreter": {
    "hash": "b1b0894a710e83edfc954b125895f92d4cffbcf6f2f4c0c1562a32b80b7ce147"
   }
  }
 },
 "nbformat": 4,
 "nbformat_minor": 5
}
