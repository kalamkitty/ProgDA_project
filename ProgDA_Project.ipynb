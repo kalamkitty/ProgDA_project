{
 "cells": [
  {
   "cell_type": "markdown",
   "id": "7025d75f",
   "metadata": {},
   "source": [
    "# Table of Contents\n",
    "\n",
    "1. Background\n",
    "2. \n",
    "3. "
   ]
  },
  {
   "cell_type": "markdown",
   "id": "1b0a01d1",
   "metadata": {},
   "source": [
    "# Background\n",
    "\n",
    "The task of the project is to choose a real-world phenonmenon and to synthesise data relating to the phemonmenon whilst investigating the types of variables involved and the relationship of said variables.\n",
    "\n",
    "The phenomenon I have chosen to investigate for this project is risk of a person developing type 2 diabetes in Ireland. The reasoning is that in my family for the past generations, seem to have developed type two diabetes at the ages between 40 and 60. A person is diagnosed with type 2 diabetes if their blood glucose is above 200mg/dl. The main factors that I will be examining is the blood glucose levels, the age of the person, their alcohol consumption and their body mass index.\n",
    "\n",
    "Using python, I will simulate a dataset with 100 datapoints for the below 4 key variables and their distributions; \n",
    "\n",
    "1. Activity level\n",
    "\n",
    "2. Age - measured in the person's age, with minimum age requirement of 18.\n",
    "\n",
    "3. Alcohol consumption - measured in litres per year.\n",
    "\n",
    "4. Body Mass Index (BMI) - calculated by dividing the person's weight by height squared. \n"
   ]
  },
  {
   "cell_type": "markdown",
   "id": "198f63cb",
   "metadata": {},
   "source": [
    "# Variables\n",
    "\n",
    "## Age\n",
    "\n",
    "It is known that Type 2 diabetes is more common in older adults, however with the rise of childhood obesity, more children are being diagnosed with type 2 diabetes, but for the project, only adults will be considered. \n",
    "\n",
    "As people get older,their risk of developing type 2 diabetes increases, this could be due to increased insulin resistance which in cause their blood glucose levels to rise. According to a study which looks at the the relationship between age and diabetes, it was found that there is a higher risk of diabetes in the older population. Over 40% of people who are 65 years old and older meet the criteria to be considered diabetic (Chang and Halter, 2003). It was also found that with every decade of increase in ages, there was .....\n"
   ]
  },
  {
   "cell_type": "code",
   "execution_count": 36,
   "id": "ddbd8fb3",
   "metadata": {},
   "outputs": [
    {
     "name": "stdout",
     "output_type": "stream",
     "text": [
      "[55 61 30 26 27 29 23 33 18 34 19 30 25 63 24 43 68 38 55 36 38 29 60 46\n",
      " 47 32 68 22 41 41 59 67 73 48 50 40 31 59 27 25 40 75 19 18 35 26 42 31\n",
      " 69 65 60 75 26 48 25 21 24 39 67 75 21 22 42 67 61 30 44 70 34 63 69 59\n",
      " 36 33 18 22 43 65 52 41 25 44 43 58 40 27 21 57 41 54 45 55 75 37 56 26\n",
      " 50 52 28 41]\n"
     ]
    }
   ],
   "source": [
    "# https://docs.python.org/3/library/random.html\n",
    "# Import numpy and pandas, generate random ages of participants between 18-75\n",
    "\n",
    "import pandas as pd\n",
    "import numpy as np\n",
    "\n",
    "#create a sample of 100 random ages between 18 and 75.\n",
    "np.random.seed(1) \n",
    "\n",
    "# Random 100 integers between 18-75 inclusive.\n",
    "age = np.random.randint(18,76,100)\n",
    "\n",
    "print(age)\n",
    "\n"
   ]
  },
  {
   "cell_type": "markdown",
   "id": "2018c5a6",
   "metadata": {},
   "source": [
    "## Alcohol Consumption\n",
    "\n",
    "Excessive alcohol consumption contributes to unstable blood glucose levels as alcohol is broken down in the liver rather than to help regulate blood sugar levels. In 2019, it was found that alcohol consumption per capita was 14.5 litres of alcohol. Only 20.6% of the population abstain from alcohol completely (O'Dwyer et al, 2021). \n",
    "\n",
    "From this information, I would assume a person will drink from 0 litres to 20 litres a year, with a fifth of the population that sustains from drinking\n"
   ]
  },
  {
   "cell_type": "code",
   "execution_count": 37,
   "id": "048dc98f",
   "metadata": {},
   "outputs": [
    {
     "name": "stdout",
     "output_type": "stream",
     "text": [
      "[28.69950678 24.66137862 68.45707047 30.60159434 34.4511922  36.77093842\n",
      " 33.22281711 29.83296328 29.00681531 27.00430627 28.66709946 25.11914997\n",
      " 32.73361607 22.30239323 42.6439187  25.30916782 28.69528248 26.74415481\n",
      " 34.6767474  32.89991043 23.55246111 19.97933159 30.3968982  25.02724901\n",
      " 22.33394164 21.98851129 37.17622491 40.94780441 33.7022757  22.30193394\n",
      " 36.45931224 28.63864588 20.38123064 27.07885807 25.03302198 30.35892025\n",
      " 25.10259259 23.03859423 44.56371795 24.26286172 18.7336458  24.28966991\n",
      " 31.02325137 23.71835416 36.21921053 28.24800336 21.70008483 30.76658931\n",
      " 30.87923474 35.06446113 44.29179434 25.20150695 32.55101812 31.32539512\n",
      " 27.63732624 39.4457541  26.54401895 34.45214035 26.34820674 24.93069835\n",
      " 36.26227445 28.74391778 25.00031055 28.74206796 39.76440871 27.04279586\n",
      " 25.39482197 27.32197128 20.80708643 26.3835926  21.80992524 34.78302118\n",
      " 34.71703464 23.45463957 28.99280814 33.84006633 21.26539644 29.79569569\n",
      " 24.25380078 24.58637974 22.20623562 25.90794494 24.25203158 29.77662194\n",
      " 31.23515161 21.96306503 28.53543336 20.1209072  25.39935085 25.93320466\n",
      " 35.69215149 20.65918494 28.21911057 26.48883343 28.8331377  31.94460439\n",
      " 21.81039142 26.5496838  53.3038944  25.99138005]\n"
     ]
    }
   ],
   "source": [
    "# https://numpy.org/doc/stable/reference/random/generated/numpy.random.Generator.gumbel.html\n",
    "np.random.seed(1)\n",
    "\n",
    "# Normal distribution based on actual data\n",
    "Alcohol = np.random.gumbel(mean, sd,size=(100))\n",
    "\n",
    "print (Alcohol)"
   ]
  },
  {
   "attachments": {},
   "cell_type": "markdown",
   "id": "7e1d8dfa",
   "metadata": {},
   "source": [
    "## Body Mass Index (BMI)\n",
    "\n",
    "Body Mass Index is calculated by dividing the person's weight in kilograms by their height in meters squared (kg/m^2). BMI indicates whether a person is underweight, normal weight or overweight.\n",
    "\n",
    "The table below indicates the status of a person based on their BMI;\n",
    "\n",
    "BMI  |Status |\n",
    "-----|-----|\n",
    "Below 18.5|Underweight|\n",
    "18.5 - 24.9 |Healthy|\n",
    "25 - 29.9|Pre-obesity|\n",
    "30 and above|Obese|\n",
    "\n",
    "(World Health Organization, 2010)\n",
    "\n",
    "Using real-life self reported BMI data from a 2018 journal, it was found that in the EU, the percentage of adults....34,814 sample, the mean BMI was found to be 25.8 whereas the standard deviation was 4.7 (Marque et al, 2014). From this data, I am assuming that the distribution is beta as there are ....\n",
    "\n"
   ]
  },
  {
   "cell_type": "code",
   "execution_count": 38,
   "id": "b2dde1f7",
   "metadata": {},
   "outputs": [
    {
     "name": "stdout",
     "output_type": "stream",
     "text": [
      "[33.43442321 22.92474486 23.31759276 20.75704748 29.86741586 14.98276812\n",
      " 34.00061529 22.22232757 27.29948375 24.62795924 32.6719073  16.11733867\n",
      " 24.28463914 23.99494453 31.12871638 20.63051104 24.98958742 21.67406544\n",
      " 25.99840461 28.5392315  20.62708987 31.18020144 30.03747639 28.16172339\n",
      " 30.03402296 22.58647906 25.22241594 21.40188366 24.54092603 28.29267069\n",
      " 22.54919447 23.93525842 22.57028831 21.82753348 22.64514319 25.74047639\n",
      " 20.54864136 26.90175378 33.60107023 29.28760755 24.8983729  21.62814387\n",
      " 22.28835602 33.75453662 26.03879645 22.80612046 26.69730278 35.67119914\n",
      " 26.36474708 28.70085462 27.2108005  24.14442572 20.43016447 24.1580892\n",
      " 24.8181971  28.557129   29.74322205 30.17617978 27.14226043 29.96016347\n",
      " 22.25432968 31.68848033 28.21077016 24.39896368 28.09603529 25.44481295\n",
      " 31.11865812 32.94313904 36.07220441 19.23646722 19.01266511 23.42901044\n",
      " 26.55217423 29.91799393 27.28348425 16.29565429 24.36084114 29.69148082\n",
      " 26.88144526 29.38145255 24.75505773 24.85643708 26.67683854 27.72724274\n",
      " 26.73200868 26.35934064 22.64788725 27.5745498  26.37255997 31.10857437\n",
      " 31.43491404 26.67023516 24.03616073 22.79796708 27.79042346 26.16349832\n",
      " 24.18388772 26.00490523 22.88599603 29.08075056]\n"
     ]
    }
   ],
   "source": [
    "# https://numpy.org/doc/stable/reference/random/generated/numpy.random.Generator.normal.html#numpy.random.Generator.normal\n",
    "np.random.seed(1)\n",
    "\n",
    "# Normal distribution based on actual BMI data\n",
    "BMI = np.random.normal(25.8, 4.7,size=(100))\n",
    "\n",
    "print (BMI)"
   ]
  },
  {
   "cell_type": "markdown",
   "id": "267a294e",
   "metadata": {},
   "source": [
    "# References\n",
    "\n",
    "https://www.bhf.org.uk/informationsupport/heart-matters-magazine/medical/tests/blood-sugar\n",
    "\n",
    "https://www.who.int/europe/news-room/fact-sheets/item/a-healthy-lifestyle---who-recommendations\n",
    "https://towardsdatascience.com/jupyter-and-markdown-cbc1f0ea6406\n",
    "\n",
    "https://ncdrisc.org/data-downloads-adiposity.html (BMI)\n",
    "Worldwide trends in body-mass index, underweight, overweight, and obesity from 1975 to 2016: a pooled analysis of 2416 population-based measurement studies in 128.9 million children, adolescents, and adults. Lancet 2017, 390:2627-2642\n",
    "\n",
    "Chang, A.M. and Halter, J.B. (2003) “Aging and insulin secretion,” American Journal of Physiology-Endocrinology and Metabolism, 284(1). Available at: https://doi.org/10.1152/ajpendo.00366.2002. \n",
    "\n",
    "Adilson Marques, Miguel Peralta, Ana Naia, Nuno Loureiro, Margarida Gaspar de Matos, Prevalence of adult overweight and obesity in 20 European countries, 2014, European Journal of Public Health, Volume 28, Issue 2, April 2018, Pages 295–300, https://doi.org/10.1093/eurpub/ckx143\n",
    "\n",
    "https://www.hrb.ie/fileadmin/2._Plugin_related_files/Publications/2021_publications/2021_HIE/Evidence_Centre/HRB_Alcohol_Overview_Series_11.pdf"
   ]
  },
  {
   "cell_type": "code",
   "execution_count": null,
   "id": "fbef7943",
   "metadata": {},
   "outputs": [],
   "source": []
  },
  {
   "cell_type": "code",
   "execution_count": null,
   "id": "11600ade",
   "metadata": {},
   "outputs": [],
   "source": []
  }
 ],
 "metadata": {
  "kernelspec": {
   "display_name": "Python 3 (ipykernel)",
   "language": "python",
   "name": "python3"
  },
  "language_info": {
   "codemirror_mode": {
    "name": "ipython",
    "version": 3
   },
   "file_extension": ".py",
   "mimetype": "text/x-python",
   "name": "python",
   "nbconvert_exporter": "python",
   "pygments_lexer": "ipython3",
   "version": "3.9.7"
  },
  "vscode": {
   "interpreter": {
    "hash": "b1b0894a710e83edfc954b125895f92d4cffbcf6f2f4c0c1562a32b80b7ce147"
   }
  }
 },
 "nbformat": 4,
 "nbformat_minor": 5
}
